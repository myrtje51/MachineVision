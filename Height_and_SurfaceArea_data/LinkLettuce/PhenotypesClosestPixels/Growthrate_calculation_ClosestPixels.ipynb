{
 "cells": [
  {
   "cell_type": "code",
   "execution_count": 1,
   "id": "73008407",
   "metadata": {},
   "outputs": [],
   "source": [
    "import pandas as pd"
   ]
  },
  {
   "cell_type": "code",
   "execution_count": 2,
   "id": "a48bf819",
   "metadata": {},
   "outputs": [],
   "source": [
    "d0521 = pd.read_csv('Phenotypes/20210521_ClosestPixel_Phenotypes.tsv', sep=\"\\t\") "
   ]
  },
  {
   "cell_type": "code",
   "execution_count": 4,
   "id": "8c44c8d6",
   "metadata": {},
   "outputs": [],
   "source": [
    "d05212 = pd.read_csv('Phenotypes/20210521_ClosestPixel_PhenotypesBatch2.tsv', sep=\"\\t\") "
   ]
  },
  {
   "cell_type": "code",
   "execution_count": 6,
   "id": "60f29e1c",
   "metadata": {},
   "outputs": [],
   "source": [
    "d0625 = pd.read_csv('Phenotypes/20210625_ClosestPixel_Phenotypes.tsv', sep=\"\\t\") "
   ]
  },
  {
   "cell_type": "code",
   "execution_count": 7,
   "id": "be379125",
   "metadata": {},
   "outputs": [],
   "source": [
    "d06252 = pd.read_csv('Phenotypes/20210625_ClosestPixel_PhenotypesBatch2.tsv', sep=\"\\t\") "
   ]
  },
  {
   "cell_type": "code",
   "execution_count": 10,
   "id": "40b16e9c",
   "metadata": {},
   "outputs": [
    {
     "name": "stderr",
     "output_type": "stream",
     "text": [
      "/tmp/ipykernel_2183194/4114541454.py:1: FutureWarning: The default value of numeric_only in DataFrameGroupBy.mean is deprecated. In a future version, numeric_only will default to False. Either specify numeric_only or select only columns which should be valid for the function.\n",
      "  dg0521 = d0521.groupby('id').mean().reset_index()\n"
     ]
    }
   ],
   "source": [
    "dg0521 = d0521.groupby('id').mean().reset_index()"
   ]
  },
  {
   "cell_type": "code",
   "execution_count": 11,
   "id": "e1fd9dc7",
   "metadata": {},
   "outputs": [
    {
     "name": "stderr",
     "output_type": "stream",
     "text": [
      "/tmp/ipykernel_2183194/2180007544.py:1: FutureWarning: The default value of numeric_only in DataFrameGroupBy.mean is deprecated. In a future version, numeric_only will default to False. Either specify numeric_only or select only columns which should be valid for the function.\n",
      "  dg05212 = d05212.groupby('id').mean().reset_index()\n"
     ]
    }
   ],
   "source": [
    "dg05212 = d05212.groupby('id').mean().reset_index()"
   ]
  },
  {
   "cell_type": "code",
   "execution_count": 13,
   "id": "bf14c5e6",
   "metadata": {},
   "outputs": [
    {
     "name": "stderr",
     "output_type": "stream",
     "text": [
      "/tmp/ipykernel_2183194/2554373053.py:1: FutureWarning: The default value of numeric_only in DataFrameGroupBy.mean is deprecated. In a future version, numeric_only will default to False. Either specify numeric_only or select only columns which should be valid for the function.\n",
      "  dg0625 = d0625.groupby('id').mean().reset_index()\n"
     ]
    }
   ],
   "source": [
    "dg0625 = d0625.groupby('id').mean().reset_index()"
   ]
  },
  {
   "cell_type": "code",
   "execution_count": 14,
   "id": "edfa3b23",
   "metadata": {},
   "outputs": [
    {
     "name": "stderr",
     "output_type": "stream",
     "text": [
      "/tmp/ipykernel_2183194/2108315661.py:1: FutureWarning: The default value of numeric_only in DataFrameGroupBy.mean is deprecated. In a future version, numeric_only will default to False. Either specify numeric_only or select only columns which should be valid for the function.\n",
      "  dg06252 = d06252.groupby('id').mean().reset_index()\n"
     ]
    }
   ],
   "source": [
    "dg06252 = d06252.groupby('id').mean().reset_index()"
   ]
  },
  {
   "cell_type": "code",
   "execution_count": 19,
   "id": "2bbee57f",
   "metadata": {},
   "outputs": [
    {
     "name": "stderr",
     "output_type": "stream",
     "text": [
      "/tmp/ipykernel_2183194/2622411304.py:1: FutureWarning: The frame.append method is deprecated and will be removed from pandas in a future version. Use pandas.concat instead.\n",
      "  dge0625 = dg0625.append(dg06252)\n"
     ]
    }
   ],
   "source": [
    "dge0625 = dg0625.append(dg06252)"
   ]
  },
  {
   "cell_type": "code",
   "execution_count": 20,
   "id": "f0790f2e",
   "metadata": {},
   "outputs": [
    {
     "name": "stderr",
     "output_type": "stream",
     "text": [
      "/tmp/ipykernel_2183194/397981694.py:1: FutureWarning: The frame.append method is deprecated and will be removed from pandas in a future version. Use pandas.concat instead.\n",
      "  dge0521 = dg0521.append(dg05212)\n"
     ]
    }
   ],
   "source": [
    "dge0521 = dg0521.append(dg05212)"
   ]
  },
  {
   "cell_type": "code",
   "execution_count": 36,
   "id": "a2b6e009",
   "metadata": {},
   "outputs": [],
   "source": [
    "dge0625['height_rate'] = (dge0625['meanHeight']-dge0521['meanHeight'])/dge0521['meanHeight']"
   ]
  },
  {
   "cell_type": "code",
   "execution_count": 39,
   "id": "fbca4218",
   "metadata": {},
   "outputs": [],
   "source": [
    "dge0625['area_rate'] = (dge0625['area']-dge0521['area'])/dge0521['area']"
   ]
  },
  {
   "cell_type": "code",
   "execution_count": 43,
   "id": "2aafd22e",
   "metadata": {},
   "outputs": [],
   "source": [
    "dge0625.to_csv('Phenotypes/Sativa_05210625_phenotypes2.0.csv', index=False)"
   ]
  },
  {
   "cell_type": "code",
   "execution_count": null,
   "id": "646fbb7c",
   "metadata": {},
   "outputs": [],
   "source": []
  }
 ],
 "metadata": {
  "kernelspec": {
   "display_name": "Python 3 (ipykernel)",
   "language": "python",
   "name": "python3"
  },
  "language_info": {
   "codemirror_mode": {
    "name": "ipython",
    "version": 3
   },
   "file_extension": ".py",
   "mimetype": "text/x-python",
   "name": "python",
   "nbconvert_exporter": "python",
   "pygments_lexer": "ipython3",
   "version": "3.9.13"
  }
 },
 "nbformat": 4,
 "nbformat_minor": 5
}
