{
 "cells": [
  {
   "cell_type": "code",
   "execution_count": 1,
   "id": "a4c38cc9",
   "metadata": {},
   "outputs": [],
   "source": [
    "import os\n",
    "import pandas as pd"
   ]
  },
  {
   "cell_type": "code",
   "execution_count": 2,
   "id": "d0f8d227",
   "metadata": {},
   "outputs": [],
   "source": [
    "sativa_ILs = os.listdir(\"Serriola_AS\") "
   ]
  },
  {
   "cell_type": "code",
   "execution_count": 4,
   "id": "cfc7459e",
   "metadata": {},
   "outputs": [],
   "source": [
    "ts1g = pd.read_csv('Serriola_20210521-20210528_heightrate.csv', index_col=0) \n",
    "ts2g = pd.read_csv('Serriola_20210528-20210601_heightrate.csv', index_col=0) \n",
    "ts3g = pd.read_csv('Serriola_20210601-20210604_heightrate.csv', index_col=0) \n",
    "ts4g = pd.read_csv('Serriola_20210604-20210608_heightrate.csv', index_col=0) \n",
    "ts5g = pd.read_csv('Serriola_20210608-20210611_heightrate.csv', index_col=0)"
   ]
  },
  {
   "cell_type": "code",
   "execution_count": 5,
   "id": "5fc498cf",
   "metadata": {},
   "outputs": [],
   "source": [
    "rate = []\n",
    "lk = []\n",
    "il = []\n",
    "for x in sativa_ILs:\n",
    "    for index, row in ts5g.iterrows():\n",
    "        if x[6:11] == index:\n",
    "            lk.append(x[0:5])\n",
    "            il.append(x[6:11])\n",
    "            rate.append(row['Height_rate'])"
   ]
  },
  {
   "cell_type": "code",
   "execution_count": 6,
   "id": "7f650ebb",
   "metadata": {},
   "outputs": [],
   "source": [
    "df = pd.DataFrame(lk, columns =['lkid'])"
   ]
  },
  {
   "cell_type": "code",
   "execution_count": 7,
   "id": "1f655d99",
   "metadata": {},
   "outputs": [],
   "source": [
    "df['ilid'] = il"
   ]
  },
  {
   "cell_type": "code",
   "execution_count": 8,
   "id": "0c866dbd",
   "metadata": {},
   "outputs": [],
   "source": [
    "df['growth_rate'] = rate"
   ]
  },
  {
   "cell_type": "code",
   "execution_count": 9,
   "id": "fb3026f3",
   "metadata": {},
   "outputs": [
    {
     "data": {
      "text/html": [
       "<div>\n",
       "<style scoped>\n",
       "    .dataframe tbody tr th:only-of-type {\n",
       "        vertical-align: middle;\n",
       "    }\n",
       "\n",
       "    .dataframe tbody tr th {\n",
       "        vertical-align: top;\n",
       "    }\n",
       "\n",
       "    .dataframe thead th {\n",
       "        text-align: right;\n",
       "    }\n",
       "</style>\n",
       "<table border=\"1\" class=\"dataframe\">\n",
       "  <thead>\n",
       "    <tr style=\"text-align: right;\">\n",
       "      <th></th>\n",
       "      <th>lkid</th>\n",
       "      <th>ilid</th>\n",
       "      <th>growth_rate</th>\n",
       "    </tr>\n",
       "  </thead>\n",
       "  <tbody>\n",
       "    <tr>\n",
       "      <th>0</th>\n",
       "      <td>LK201</td>\n",
       "      <td>IL001</td>\n",
       "      <td>0.107718</td>\n",
       "    </tr>\n",
       "    <tr>\n",
       "      <th>1</th>\n",
       "      <td>LK201</td>\n",
       "      <td>IL392</td>\n",
       "      <td>0.355132</td>\n",
       "    </tr>\n",
       "    <tr>\n",
       "      <th>2</th>\n",
       "      <td>LK202</td>\n",
       "      <td>IL002</td>\n",
       "      <td>0.419125</td>\n",
       "    </tr>\n",
       "    <tr>\n",
       "      <th>3</th>\n",
       "      <td>LK202</td>\n",
       "      <td>IL322</td>\n",
       "      <td>0.076901</td>\n",
       "    </tr>\n",
       "    <tr>\n",
       "      <th>4</th>\n",
       "      <td>LK203</td>\n",
       "      <td>IL003</td>\n",
       "      <td>0.077713</td>\n",
       "    </tr>\n",
       "    <tr>\n",
       "      <th>...</th>\n",
       "      <td>...</td>\n",
       "      <td>...</td>\n",
       "      <td>...</td>\n",
       "    </tr>\n",
       "    <tr>\n",
       "      <th>392</th>\n",
       "      <td>LK398</td>\n",
       "      <td>IL275</td>\n",
       "      <td>-0.120262</td>\n",
       "    </tr>\n",
       "    <tr>\n",
       "      <th>393</th>\n",
       "      <td>LK399</td>\n",
       "      <td>IL199</td>\n",
       "      <td>0.148211</td>\n",
       "    </tr>\n",
       "    <tr>\n",
       "      <th>394</th>\n",
       "      <td>LK399</td>\n",
       "      <td>IL249</td>\n",
       "      <td>0.402181</td>\n",
       "    </tr>\n",
       "    <tr>\n",
       "      <th>395</th>\n",
       "      <td>LK400</td>\n",
       "      <td>IL200</td>\n",
       "      <td>0.098402</td>\n",
       "    </tr>\n",
       "    <tr>\n",
       "      <th>396</th>\n",
       "      <td>LK400</td>\n",
       "      <td>IL203</td>\n",
       "      <td>-0.035674</td>\n",
       "    </tr>\n",
       "  </tbody>\n",
       "</table>\n",
       "<p>397 rows × 3 columns</p>\n",
       "</div>"
      ],
      "text/plain": [
       "      lkid   ilid  growth_rate\n",
       "0    LK201  IL001     0.107718\n",
       "1    LK201  IL392     0.355132\n",
       "2    LK202  IL002     0.419125\n",
       "3    LK202  IL322     0.076901\n",
       "4    LK203  IL003     0.077713\n",
       "..     ...    ...          ...\n",
       "392  LK398  IL275    -0.120262\n",
       "393  LK399  IL199     0.148211\n",
       "394  LK399  IL249     0.402181\n",
       "395  LK400  IL200     0.098402\n",
       "396  LK400  IL203    -0.035674\n",
       "\n",
       "[397 rows x 3 columns]"
      ]
     },
     "execution_count": 9,
     "metadata": {},
     "output_type": "execute_result"
    }
   ],
   "source": [
    "df"
   ]
  },
  {
   "cell_type": "code",
   "execution_count": 49,
   "id": "be72afef",
   "metadata": {},
   "outputs": [],
   "source": [
    "df.to_csv(\"Serriola_20210608-20210611_heightrate_LKID.csv\", index=False)"
   ]
  },
  {
   "cell_type": "markdown",
   "id": "65b88d84",
   "metadata": {},
   "source": [
    "#### Growth rates and height rates over a longer time"
   ]
  },
  {
   "cell_type": "code",
   "execution_count": 10,
   "id": "dbdff0bd",
   "metadata": {},
   "outputs": [],
   "source": [
    "df_hr = (ts1g[\"Height_rate\"] + ts2g[\"Height_rate\"] + ts3g[\"Height_rate\"] + ts4g[\"Height_rate\"] + ts5g[\"Height_rate\"]) / 5"
   ]
  },
  {
   "cell_type": "code",
   "execution_count": 11,
   "id": "d1b3a4ea",
   "metadata": {},
   "outputs": [],
   "source": [
    "df_hr = df_hr.dropna()"
   ]
  },
  {
   "cell_type": "code",
   "execution_count": 12,
   "id": "06a5635a",
   "metadata": {},
   "outputs": [],
   "source": [
    "df_hr = pd.DataFrame({'ilid':df_hr.index, 'Height_rate':df_hr.values})"
   ]
  },
  {
   "cell_type": "code",
   "execution_count": 13,
   "id": "95a42529",
   "metadata": {},
   "outputs": [],
   "source": [
    "rate = []\n",
    "lk = []\n",
    "il = []\n",
    "for x in sativa_ILs:\n",
    "    for index, row in df_hr.iterrows():\n",
    "        if x[6:11] == row['ilid']:\n",
    "            lk.append(x[0:5])\n",
    "            il.append(x[6:11])\n",
    "            rate.append(row['Height_rate'])"
   ]
  },
  {
   "cell_type": "code",
   "execution_count": 14,
   "id": "de9befca",
   "metadata": {},
   "outputs": [],
   "source": [
    "df = pd.DataFrame(lk, columns =['lkid'])"
   ]
  },
  {
   "cell_type": "code",
   "execution_count": 15,
   "id": "d6f167c5",
   "metadata": {},
   "outputs": [],
   "source": [
    "df['ilid'] = il"
   ]
  },
  {
   "cell_type": "code",
   "execution_count": 16,
   "id": "fd10d8a7",
   "metadata": {},
   "outputs": [],
   "source": [
    "df['growth_rate'] = rate"
   ]
  },
  {
   "cell_type": "code",
   "execution_count": 18,
   "id": "1a0b1adf",
   "metadata": {},
   "outputs": [],
   "source": [
    "df.to_csv(\"Serriola_0521-0611_heightrate_LKID.csv\", index=True)"
   ]
  },
  {
   "cell_type": "code",
   "execution_count": 40,
   "id": "05c1f1e9",
   "metadata": {},
   "outputs": [],
   "source": [
    "df_gr = (ts1g[\"Growth_rate\"] + ts2g[\"Growth_rate\"] + ts3g[\"Growth_rate\"] + ts4g[\"Growth_rate\"] + ts5g[\"Growth_rate\"]) / 5"
   ]
  },
  {
   "cell_type": "code",
   "execution_count": 44,
   "id": "8ed6a9f0",
   "metadata": {},
   "outputs": [],
   "source": [
    "df_gr = df_gr.dropna()"
   ]
  },
  {
   "cell_type": "code",
   "execution_count": 45,
   "id": "161b3d00",
   "metadata": {},
   "outputs": [],
   "source": [
    "df_gr.to_csv(\"Serriola_0521-0611_growthrate_LKID.csv\", index=True)"
   ]
  },
  {
   "cell_type": "markdown",
   "id": "ee80ea6e",
   "metadata": {},
   "source": [
    "### filter out accessions"
   ]
  },
  {
   "cell_type": "code",
   "execution_count": 2,
   "id": "a7988f61",
   "metadata": {},
   "outputs": [],
   "source": [
    "ts1g = pd.read_csv('Heights/Per Plant/Sativa_20210521_height_individual_filtered.csv', index_col=0, names=[\"acc\",\"height0521\",\"coordinates\"], header=0) \n",
    "ts2g = pd.read_csv('Heights/Per Plant/Sativa_20210528_height_individual.csv', index_col=0, names=[\"acc\",\"height0528\",\"coordinates\"], header=0) \n",
    "ts3g = pd.read_csv('Heights/Per Plant/Sativa_20210601_height_individual.csv', index_col=0, names=[\"acc\",\"height0601\",\"coordinates\"], header=0) \n",
    "ts4g = pd.read_csv('Heights/Per Plant/Sativa_20210604_height_individual.csv', index_col=0, names=[\"acc\",\"height0604\",\"coordinates\"], header=0) \n",
    "ts5g = pd.read_csv('Heights/Per Plant/Sativa_20210608_height_individual.csv', index_col=0, names=[\"acc\",\"height0608\",\"coordinates\"], header=0)\n",
    "ts6g = pd.read_csv('Heights/Per Plant/Sativa_20210611_height_individual.csv', index_col=0, names=[\"acc\",\"height0611\",\"coordinates\"], header=0) \n",
    "ts7g = pd.read_csv('Heights/Per Plant/Sativa_20210615_height_individual.csv', index_col=0, names=[\"acc\",\"height0615\",\"coordinates\"], header=0) \n",
    "ts8g = pd.read_csv('Heights/Per Plant/Sativa_20210618_height_individual.csv', index_col=0, names=[\"acc\",\"height0618\",\"coordinates\"], header=0) \n",
    "ts9g = pd.read_csv('Heights/Per Plant/Sativa_20210622_height_individual_filtered.csv', index_col=0, names=[\"acc\",\"height0622\",\"coordinates\"], header=0) \n",
    "ts10g = pd.read_csv('Heights/Per Plant/Sativa_20210625_height_individual_filtered_5.4.csv', index_col=0, names=[\"acc\",\"height0625\",\"coordinates\"], header=0)"
   ]
  },
  {
   "cell_type": "code",
   "execution_count": 3,
   "id": "6ce09b5a",
   "metadata": {},
   "outputs": [],
   "source": [
    "ts1gc = pd.read_csv('Heights/Per Plant/Corrected/Sativa_20210521_height_corrected.csv', index_col=0, names=[\"acc\",\"height0521\",\"coordinates\"], header=0) \n",
    "ts2gc = pd.read_csv('Heights/Per Plant/Corrected/Sativa_20210528_height_corrected.csv', index_col=0, names=[\"acc\",\"height0528\",\"coordinates\"], header=0) \n",
    "ts3gc = pd.read_csv('Heights/Per Plant/Corrected/Sativa_20210601_height_corrected.csv', index_col=0, names=[\"acc\",\"height0601\",\"coordinates\"], header=0) \n",
    "ts4gc = pd.read_csv('Heights/Per Plant/Corrected/Sativa_20210604_height_corrected.csv', index_col=0, names=[\"acc\",\"height0604\",\"coordinates\"], header=0) \n",
    "ts5gc = pd.read_csv('Heights/Per Plant/Corrected/Sativa_20210608_height_corrected.csv', index_col=0, names=[\"acc\",\"height0608\",\"coordinates\"], header=0)\n",
    "ts6gc = pd.read_csv('Heights/Per Plant/Corrected/Sativa_20210611_height_corrected.csv', index_col=0, names=[\"acc\",\"height0611\",\"coordinates\"], header=0) \n",
    "ts7gc = pd.read_csv('Heights/Per Plant/Corrected/Sativa_20210615_height_corrected.csv', index_col=0, names=[\"acc\",\"height0615\",\"coordinates\"], header=0) \n",
    "ts8gc = pd.read_csv('Heights/Per Plant/Corrected/Sativa_20210618_height_corrected.csv', index_col=0, names=[\"acc\",\"height0618\",\"coordinates\"], header=0) \n",
    "ts9gc = pd.read_csv('Heights/Per Plant/Corrected/Sativa_20210622_height_corrected.csv', index_col=0, names=[\"acc\",\"height0622\",\"coordinates\"], header=0) \n",
    "ts10gc = pd.read_csv('Heights/Per Plant/Corrected/Sativa_20210625_height_corrected.csv', index_col=0, names=[\"acc\",\"height0625\",\"coordinates\"], header=0)"
   ]
  },
  {
   "cell_type": "code",
   "execution_count": 6,
   "id": "ca06aa79",
   "metadata": {},
   "outputs": [],
   "source": [
    "hoi = ts10g[ts10g['height0625'] > 5].groupby('acc')['height0625'].count().reset_index(name='count')"
   ]
  },
  {
   "cell_type": "code",
   "execution_count": 10,
   "id": "8c69e7c6",
   "metadata": {},
   "outputs": [],
   "source": [
    "new_df = ts9gc[ts9gc['acc'].isin(list(set(ts9g.index)))]"
   ]
  },
  {
   "cell_type": "code",
   "execution_count": 11,
   "id": "ffa6dc2b",
   "metadata": {},
   "outputs": [
    {
     "data": {
      "text/html": [
       "<div>\n",
       "<style scoped>\n",
       "    .dataframe tbody tr th:only-of-type {\n",
       "        vertical-align: middle;\n",
       "    }\n",
       "\n",
       "    .dataframe tbody tr th {\n",
       "        vertical-align: top;\n",
       "    }\n",
       "\n",
       "    .dataframe thead th {\n",
       "        text-align: right;\n",
       "    }\n",
       "</style>\n",
       "<table border=\"1\" class=\"dataframe\">\n",
       "  <thead>\n",
       "    <tr style=\"text-align: right;\">\n",
       "      <th></th>\n",
       "      <th>acc</th>\n",
       "      <th>height0622</th>\n",
       "      <th>coordinates</th>\n",
       "    </tr>\n",
       "  </thead>\n",
       "  <tbody>\n",
       "    <tr>\n",
       "      <th>15</th>\n",
       "      <td>IL402</td>\n",
       "      <td>4.431833</td>\n",
       "      <td>(513, 81)</td>\n",
       "    </tr>\n",
       "    <tr>\n",
       "      <th>16</th>\n",
       "      <td>IL402</td>\n",
       "      <td>2.143302</td>\n",
       "      <td>(716, 85)</td>\n",
       "    </tr>\n",
       "    <tr>\n",
       "      <th>17</th>\n",
       "      <td>IL402</td>\n",
       "      <td>3.987703</td>\n",
       "      <td>(710, 193)</td>\n",
       "    </tr>\n",
       "    <tr>\n",
       "      <th>18</th>\n",
       "      <td>IL402</td>\n",
       "      <td>5.267860</td>\n",
       "      <td>(317, 196)</td>\n",
       "    </tr>\n",
       "    <tr>\n",
       "      <th>19</th>\n",
       "      <td>IL402</td>\n",
       "      <td>15.526308</td>\n",
       "      <td>(125, 197)</td>\n",
       "    </tr>\n",
       "    <tr>\n",
       "      <th>...</th>\n",
       "      <td>...</td>\n",
       "      <td>...</td>\n",
       "      <td>...</td>\n",
       "    </tr>\n",
       "    <tr>\n",
       "      <th>5885</th>\n",
       "      <td>IL796</td>\n",
       "      <td>7.460987</td>\n",
       "      <td>(907, 614)</td>\n",
       "    </tr>\n",
       "    <tr>\n",
       "      <th>5886</th>\n",
       "      <td>IL796</td>\n",
       "      <td>34.883011</td>\n",
       "      <td>(640, 616)</td>\n",
       "    </tr>\n",
       "    <tr>\n",
       "      <th>5887</th>\n",
       "      <td>IL796</td>\n",
       "      <td>27.127854</td>\n",
       "      <td>(102, 618)</td>\n",
       "    </tr>\n",
       "    <tr>\n",
       "      <th>5888</th>\n",
       "      <td>IL796</td>\n",
       "      <td>39.534221</td>\n",
       "      <td>(373, 621)</td>\n",
       "    </tr>\n",
       "    <tr>\n",
       "      <th>5889</th>\n",
       "      <td>IL796</td>\n",
       "      <td>30.033193</td>\n",
       "      <td>(560, 635)</td>\n",
       "    </tr>\n",
       "  </tbody>\n",
       "</table>\n",
       "<p>5704 rows × 3 columns</p>\n",
       "</div>"
      ],
      "text/plain": [
       "        acc  height0622 coordinates\n",
       "15    IL402    4.431833   (513, 81)\n",
       "16    IL402    2.143302   (716, 85)\n",
       "17    IL402    3.987703  (710, 193)\n",
       "18    IL402    5.267860  (317, 196)\n",
       "19    IL402   15.526308  (125, 197)\n",
       "...     ...         ...         ...\n",
       "5885  IL796    7.460987  (907, 614)\n",
       "5886  IL796   34.883011  (640, 616)\n",
       "5887  IL796   27.127854  (102, 618)\n",
       "5888  IL796   39.534221  (373, 621)\n",
       "5889  IL796   30.033193  (560, 635)\n",
       "\n",
       "[5704 rows x 3 columns]"
      ]
     },
     "execution_count": 11,
     "metadata": {},
     "output_type": "execute_result"
    }
   ],
   "source": [
    "new_df"
   ]
  },
  {
   "cell_type": "code",
   "execution_count": 10,
   "id": "b8091e23",
   "metadata": {},
   "outputs": [],
   "source": [
    "df = hoi[hoi['count']>4]"
   ]
  },
  {
   "cell_type": "code",
   "execution_count": 12,
   "id": "0c410796",
   "metadata": {},
   "outputs": [],
   "source": [
    "new_df = ts10g[ts10g['acc'].isin(list(df['acc']))]"
   ]
  },
  {
   "cell_type": "code",
   "execution_count": 12,
   "id": "ed382016",
   "metadata": {},
   "outputs": [],
   "source": [
    "new_df.to_csv('Heights/Per Plant/Corrected/Sativa_20210622_height_corrected_filtered.csv', index=False)"
   ]
  },
  {
   "cell_type": "markdown",
   "id": "75ae7e22",
   "metadata": {},
   "source": [
    "### Growth rate calculation"
   ]
  },
  {
   "cell_type": "code",
   "execution_count": 13,
   "id": "c814a133",
   "metadata": {},
   "outputs": [],
   "source": [
    "ts1g = pd.read_csv('Heights/Per Plant/Corrected/Sativa_20210521_height_corrected_filtered.csv', index_col=0, names=[\"acc\",\"height0521\",\"coordinates\"], header=0) \n",
    "ts2g = pd.read_csv('Heights/Per Plant/Sativa_20210528_height_individual_filtered.csv', index_col=0, names=[\"acc\",\"height0528\",\"coordinates\"], header=0) \n",
    "ts3g = pd.read_csv('Heights/Per Plant/Sativa_20210601_height_individual_filtered.csv', index_col=0, names=[\"acc\",\"height0601\",\"coordinates\"], header=0) \n",
    "ts4g = pd.read_csv('Heights/Per Plant/Sativa_20210604_height_individual_filtered.csv', index_col=0, names=[\"acc\",\"height0604\",\"coordinates\"], header=0) \n",
    "ts5g = pd.read_csv('Heights/Per Plant/Sativa_20210608_height_individual_filtered.csv', index_col=0, names=[\"acc\",\"height0608\",\"coordinates\"], header=0)\n",
    "ts6g = pd.read_csv('Heights/Per Plant/Sativa_20210611_height_individual_filtered.csv', index_col=0, names=[\"acc\",\"height0611\",\"coordinates\"], header=0) \n",
    "ts7g = pd.read_csv('Heights/Per Plant/Sativa_20210615_height_individual_filtered.csv', index_col=0, names=[\"acc\",\"height0615\",\"coordinates\"], header=0) \n",
    "ts8g = pd.read_csv('Heights/Per Plant/Sativa_20210618_height_individual_filtered.csv', index_col=0, names=[\"acc\",\"height0618\",\"coordinates\"], header=0) \n",
    "ts9g = pd.read_csv('Heights/Per Plant/Corrected/Sativa_20210622_height_corrected_filtered.csv', index_col=0, names=[\"acc\",\"height0622\",\"coordinates\"], header=0) \n",
    "ts10g = pd.read_csv('Heights/Per Plant/Corrected/Sativa_20210625_height_corrected_filtered.csv', index_col=0, names=[\"acc\",\"height0625\",\"coordinates\"], header=0)"
   ]
  },
  {
   "cell_type": "code",
   "execution_count": 21,
   "id": "680fab87",
   "metadata": {},
   "outputs": [],
   "source": [
    "result = pd.merge(ts1g, ts9g, on=[\"acc\", \"coordinates\"])"
   ]
  },
  {
   "cell_type": "code",
   "execution_count": 22,
   "id": "5516ab2a",
   "metadata": {},
   "outputs": [
    {
     "data": {
      "text/html": [
       "<div>\n",
       "<style scoped>\n",
       "    .dataframe tbody tr th:only-of-type {\n",
       "        vertical-align: middle;\n",
       "    }\n",
       "\n",
       "    .dataframe tbody tr th {\n",
       "        vertical-align: top;\n",
       "    }\n",
       "\n",
       "    .dataframe thead th {\n",
       "        text-align: right;\n",
       "    }\n",
       "</style>\n",
       "<table border=\"1\" class=\"dataframe\">\n",
       "  <thead>\n",
       "    <tr style=\"text-align: right;\">\n",
       "      <th></th>\n",
       "      <th>height0521</th>\n",
       "      <th>coordinates</th>\n",
       "      <th>height0622</th>\n",
       "    </tr>\n",
       "    <tr>\n",
       "      <th>acc</th>\n",
       "      <th></th>\n",
       "      <th></th>\n",
       "      <th></th>\n",
       "    </tr>\n",
       "  </thead>\n",
       "  <tbody>\n",
       "    <tr>\n",
       "      <th>IL402</th>\n",
       "      <td>2.614936</td>\n",
       "      <td>(513, 81)</td>\n",
       "      <td>4.431833</td>\n",
       "    </tr>\n",
       "    <tr>\n",
       "      <th>IL402</th>\n",
       "      <td>2.921802</td>\n",
       "      <td>(716, 85)</td>\n",
       "      <td>2.143302</td>\n",
       "    </tr>\n",
       "    <tr>\n",
       "      <th>IL402</th>\n",
       "      <td>2.466080</td>\n",
       "      <td>(710, 193)</td>\n",
       "      <td>3.987703</td>\n",
       "    </tr>\n",
       "    <tr>\n",
       "      <th>IL402</th>\n",
       "      <td>2.326379</td>\n",
       "      <td>(317, 196)</td>\n",
       "      <td>5.267860</td>\n",
       "    </tr>\n",
       "    <tr>\n",
       "      <th>IL402</th>\n",
       "      <td>1.602996</td>\n",
       "      <td>(125, 197)</td>\n",
       "      <td>15.526308</td>\n",
       "    </tr>\n",
       "    <tr>\n",
       "      <th>...</th>\n",
       "      <td>...</td>\n",
       "      <td>...</td>\n",
       "      <td>...</td>\n",
       "    </tr>\n",
       "    <tr>\n",
       "      <th>IL795</th>\n",
       "      <td>3.662220</td>\n",
       "      <td>(905, 506)</td>\n",
       "      <td>46.458089</td>\n",
       "    </tr>\n",
       "    <tr>\n",
       "      <th>IL795</th>\n",
       "      <td>4.451872</td>\n",
       "      <td>(104, 513)</td>\n",
       "      <td>47.801015</td>\n",
       "    </tr>\n",
       "    <tr>\n",
       "      <th>IL795</th>\n",
       "      <td>3.479533</td>\n",
       "      <td>(907, 614)</td>\n",
       "      <td>47.059681</td>\n",
       "    </tr>\n",
       "    <tr>\n",
       "      <th>IL795</th>\n",
       "      <td>5.579633</td>\n",
       "      <td>(102, 618)</td>\n",
       "      <td>51.588322</td>\n",
       "    </tr>\n",
       "    <tr>\n",
       "      <th>IL795</th>\n",
       "      <td>7.326498</td>\n",
       "      <td>(373, 621)</td>\n",
       "      <td>0.654376</td>\n",
       "    </tr>\n",
       "  </tbody>\n",
       "</table>\n",
       "<p>4659 rows × 3 columns</p>\n",
       "</div>"
      ],
      "text/plain": [
       "       height0521 coordinates  height0622\n",
       "acc                                      \n",
       "IL402    2.614936   (513, 81)    4.431833\n",
       "IL402    2.921802   (716, 85)    2.143302\n",
       "IL402    2.466080  (710, 193)    3.987703\n",
       "IL402    2.326379  (317, 196)    5.267860\n",
       "IL402    1.602996  (125, 197)   15.526308\n",
       "...           ...         ...         ...\n",
       "IL795    3.662220  (905, 506)   46.458089\n",
       "IL795    4.451872  (104, 513)   47.801015\n",
       "IL795    3.479533  (907, 614)   47.059681\n",
       "IL795    5.579633  (102, 618)   51.588322\n",
       "IL795    7.326498  (373, 621)    0.654376\n",
       "\n",
       "[4659 rows x 3 columns]"
      ]
     },
     "execution_count": 22,
     "metadata": {},
     "output_type": "execute_result"
    }
   ],
   "source": [
    "result"
   ]
  },
  {
   "cell_type": "code",
   "execution_count": 21,
   "id": "b45a3eb4",
   "metadata": {},
   "outputs": [],
   "source": [
    "result = result[result['height0625']>0.2]"
   ]
  },
  {
   "cell_type": "code",
   "execution_count": 23,
   "id": "10ccfeac",
   "metadata": {},
   "outputs": [],
   "source": [
    "result['growth_rate'] = ((result['height0622']) - (result['height0521'])) / (result['height0521'])"
   ]
  },
  {
   "cell_type": "code",
   "execution_count": 24,
   "id": "23179a8c",
   "metadata": {},
   "outputs": [
    {
     "data": {
      "text/html": [
       "<div>\n",
       "<style scoped>\n",
       "    .dataframe tbody tr th:only-of-type {\n",
       "        vertical-align: middle;\n",
       "    }\n",
       "\n",
       "    .dataframe tbody tr th {\n",
       "        vertical-align: top;\n",
       "    }\n",
       "\n",
       "    .dataframe thead th {\n",
       "        text-align: right;\n",
       "    }\n",
       "</style>\n",
       "<table border=\"1\" class=\"dataframe\">\n",
       "  <thead>\n",
       "    <tr style=\"text-align: right;\">\n",
       "      <th></th>\n",
       "      <th>height0521</th>\n",
       "      <th>coordinates</th>\n",
       "      <th>height0622</th>\n",
       "      <th>growth_rate</th>\n",
       "    </tr>\n",
       "    <tr>\n",
       "      <th>acc</th>\n",
       "      <th></th>\n",
       "      <th></th>\n",
       "      <th></th>\n",
       "      <th></th>\n",
       "    </tr>\n",
       "  </thead>\n",
       "  <tbody>\n",
       "    <tr>\n",
       "      <th>IL402</th>\n",
       "      <td>2.614936</td>\n",
       "      <td>(513, 81)</td>\n",
       "      <td>4.431833</td>\n",
       "      <td>0.694815</td>\n",
       "    </tr>\n",
       "    <tr>\n",
       "      <th>IL402</th>\n",
       "      <td>2.921802</td>\n",
       "      <td>(716, 85)</td>\n",
       "      <td>2.143302</td>\n",
       "      <td>-0.266445</td>\n",
       "    </tr>\n",
       "    <tr>\n",
       "      <th>IL402</th>\n",
       "      <td>2.466080</td>\n",
       "      <td>(710, 193)</td>\n",
       "      <td>3.987703</td>\n",
       "      <td>0.617021</td>\n",
       "    </tr>\n",
       "    <tr>\n",
       "      <th>IL402</th>\n",
       "      <td>2.326379</td>\n",
       "      <td>(317, 196)</td>\n",
       "      <td>5.267860</td>\n",
       "      <td>1.264403</td>\n",
       "    </tr>\n",
       "    <tr>\n",
       "      <th>IL402</th>\n",
       "      <td>1.602996</td>\n",
       "      <td>(125, 197)</td>\n",
       "      <td>15.526308</td>\n",
       "      <td>8.685807</td>\n",
       "    </tr>\n",
       "    <tr>\n",
       "      <th>...</th>\n",
       "      <td>...</td>\n",
       "      <td>...</td>\n",
       "      <td>...</td>\n",
       "      <td>...</td>\n",
       "    </tr>\n",
       "    <tr>\n",
       "      <th>IL795</th>\n",
       "      <td>3.662220</td>\n",
       "      <td>(905, 506)</td>\n",
       "      <td>46.458089</td>\n",
       "      <td>11.685773</td>\n",
       "    </tr>\n",
       "    <tr>\n",
       "      <th>IL795</th>\n",
       "      <td>4.451872</td>\n",
       "      <td>(104, 513)</td>\n",
       "      <td>47.801015</td>\n",
       "      <td>9.737285</td>\n",
       "    </tr>\n",
       "    <tr>\n",
       "      <th>IL795</th>\n",
       "      <td>3.479533</td>\n",
       "      <td>(907, 614)</td>\n",
       "      <td>47.059681</td>\n",
       "      <td>12.524711</td>\n",
       "    </tr>\n",
       "    <tr>\n",
       "      <th>IL795</th>\n",
       "      <td>5.579633</td>\n",
       "      <td>(102, 618)</td>\n",
       "      <td>51.588322</td>\n",
       "      <td>8.245828</td>\n",
       "    </tr>\n",
       "    <tr>\n",
       "      <th>IL795</th>\n",
       "      <td>7.326498</td>\n",
       "      <td>(373, 621)</td>\n",
       "      <td>0.654376</td>\n",
       "      <td>-0.910684</td>\n",
       "    </tr>\n",
       "  </tbody>\n",
       "</table>\n",
       "<p>4659 rows × 4 columns</p>\n",
       "</div>"
      ],
      "text/plain": [
       "       height0521 coordinates  height0622  growth_rate\n",
       "acc                                                   \n",
       "IL402    2.614936   (513, 81)    4.431833     0.694815\n",
       "IL402    2.921802   (716, 85)    2.143302    -0.266445\n",
       "IL402    2.466080  (710, 193)    3.987703     0.617021\n",
       "IL402    2.326379  (317, 196)    5.267860     1.264403\n",
       "IL402    1.602996  (125, 197)   15.526308     8.685807\n",
       "...           ...         ...         ...          ...\n",
       "IL795    3.662220  (905, 506)   46.458089    11.685773\n",
       "IL795    4.451872  (104, 513)   47.801015     9.737285\n",
       "IL795    3.479533  (907, 614)   47.059681    12.524711\n",
       "IL795    5.579633  (102, 618)   51.588322     8.245828\n",
       "IL795    7.326498  (373, 621)    0.654376    -0.910684\n",
       "\n",
       "[4659 rows x 4 columns]"
      ]
     },
     "execution_count": 24,
     "metadata": {},
     "output_type": "execute_result"
    }
   ],
   "source": [
    "result"
   ]
  },
  {
   "cell_type": "code",
   "execution_count": 25,
   "id": "f0a2267f",
   "metadata": {},
   "outputs": [],
   "source": [
    "result = result.groupby('acc')['growth_rate'].mean().reset_index(name='growth_rate')"
   ]
  },
  {
   "cell_type": "code",
   "execution_count": 26,
   "id": "669307f2",
   "metadata": {},
   "outputs": [],
   "source": [
    "result.to_csv('GrowthRates/Sativa_05210622_growthrate_radius_corrected.csv', index=False)"
   ]
  },
  {
   "cell_type": "code",
   "execution_count": 27,
   "id": "8b7f9b4a",
   "metadata": {},
   "outputs": [
    {
     "data": {
      "text/html": [
       "<div>\n",
       "<style scoped>\n",
       "    .dataframe tbody tr th:only-of-type {\n",
       "        vertical-align: middle;\n",
       "    }\n",
       "\n",
       "    .dataframe tbody tr th {\n",
       "        vertical-align: top;\n",
       "    }\n",
       "\n",
       "    .dataframe thead th {\n",
       "        text-align: right;\n",
       "    }\n",
       "</style>\n",
       "<table border=\"1\" class=\"dataframe\">\n",
       "  <thead>\n",
       "    <tr style=\"text-align: right;\">\n",
       "      <th></th>\n",
       "      <th>acc</th>\n",
       "      <th>growth_rate</th>\n",
       "    </tr>\n",
       "  </thead>\n",
       "  <tbody>\n",
       "    <tr>\n",
       "      <th>0</th>\n",
       "      <td>IL402</td>\n",
       "      <td>9.978328</td>\n",
       "    </tr>\n",
       "    <tr>\n",
       "      <th>1</th>\n",
       "      <td>IL404</td>\n",
       "      <td>433.116107</td>\n",
       "    </tr>\n",
       "    <tr>\n",
       "      <th>2</th>\n",
       "      <td>IL405</td>\n",
       "      <td>76.954072</td>\n",
       "    </tr>\n",
       "    <tr>\n",
       "      <th>3</th>\n",
       "      <td>IL408</td>\n",
       "      <td>37.194202</td>\n",
       "    </tr>\n",
       "    <tr>\n",
       "      <th>4</th>\n",
       "      <td>IL409</td>\n",
       "      <td>29.378996</td>\n",
       "    </tr>\n",
       "    <tr>\n",
       "      <th>...</th>\n",
       "      <td>...</td>\n",
       "      <td>...</td>\n",
       "    </tr>\n",
       "    <tr>\n",
       "      <th>257</th>\n",
       "      <td>IL787</td>\n",
       "      <td>7.765364</td>\n",
       "    </tr>\n",
       "    <tr>\n",
       "      <th>258</th>\n",
       "      <td>IL788</td>\n",
       "      <td>17.142768</td>\n",
       "    </tr>\n",
       "    <tr>\n",
       "      <th>259</th>\n",
       "      <td>IL792</td>\n",
       "      <td>11.932746</td>\n",
       "    </tr>\n",
       "    <tr>\n",
       "      <th>260</th>\n",
       "      <td>IL793</td>\n",
       "      <td>7.808894</td>\n",
       "    </tr>\n",
       "    <tr>\n",
       "      <th>261</th>\n",
       "      <td>IL795</td>\n",
       "      <td>9.124332</td>\n",
       "    </tr>\n",
       "  </tbody>\n",
       "</table>\n",
       "<p>262 rows × 2 columns</p>\n",
       "</div>"
      ],
      "text/plain": [
       "       acc  growth_rate\n",
       "0    IL402     9.978328\n",
       "1    IL404   433.116107\n",
       "2    IL405    76.954072\n",
       "3    IL408    37.194202\n",
       "4    IL409    29.378996\n",
       "..     ...          ...\n",
       "257  IL787     7.765364\n",
       "258  IL788    17.142768\n",
       "259  IL792    11.932746\n",
       "260  IL793     7.808894\n",
       "261  IL795     9.124332\n",
       "\n",
       "[262 rows x 2 columns]"
      ]
     },
     "execution_count": 27,
     "metadata": {},
     "output_type": "execute_result"
    }
   ],
   "source": [
    "result"
   ]
  },
  {
   "cell_type": "code",
   "execution_count": null,
   "id": "9c5349c2",
   "metadata": {},
   "outputs": [],
   "source": []
  }
 ],
 "metadata": {
  "kernelspec": {
   "display_name": "Python 3 (ipykernel)",
   "language": "python",
   "name": "python3"
  },
  "language_info": {
   "codemirror_mode": {
    "name": "ipython",
    "version": 3
   },
   "file_extension": ".py",
   "mimetype": "text/x-python",
   "name": "python",
   "nbconvert_exporter": "python",
   "pygments_lexer": "ipython3",
   "version": "3.9.13"
  }
 },
 "nbformat": 4,
 "nbformat_minor": 5
}
