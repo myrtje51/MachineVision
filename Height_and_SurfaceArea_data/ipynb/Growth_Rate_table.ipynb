{
 "cells": [
  {
   "cell_type": "code",
   "execution_count": 1,
   "id": "c810bad6",
   "metadata": {},
   "outputs": [
    {
     "name": "stderr",
     "output_type": "stream",
     "text": [
      "/home/myrthe/miniconda3/envs/plantcv/lib/python3.9/site-packages/skimage/viewer/utils/__init__.py:1: UserWarning: Recommended matplotlib backend is `Agg` for full skimage.viewer functionality.\n",
      "  from .core import *\n"
     ]
    }
   ],
   "source": [
    "import zipfile\n",
    "import numpy as np\n",
    "import skimage.io\n",
    "import skimage.viewer\n",
    "import skimage.filters\n",
    "import skimage.measure\n",
    "import skimage.morphology\n",
    "import matplotlib.pyplot as plt\n",
    "import matplotlib\n",
    "import cv2\n",
    "from PIL import Image\n",
    "import io\n",
    "from plantcv import plantcv as pcv\n",
    "import os\n",
    "import glob"
   ]
  },
  {
   "cell_type": "code",
   "execution_count": null,
   "id": "53dc2d87",
   "metadata": {},
   "outputs": [],
   "source": [
    "# Import all time slots\n",
    "archive_ts1 = zipfile.ZipFile('NDVI/20210521_FX10_NDVI.zip', 'r')\n",
    "archive_ts2 = zipfile.ZipFile('NDVI/20210528_FX10_NDVI.zip', 'r')\n",
    "archive_ts3 = zipfile.ZipFile('NDVI/20210601_FX10_NDVI.zip', 'r')\n",
    "archive_ts4 = zipfile.ZipFile('NDVI/20210604_FX10_NDVI.zip', 'r')\n",
    "archive_ts5 = zipfile.ZipFile('NDVI/20210608_FX10_NDVI.zip', 'r')\n",
    "archive_ts6 = zipfile.ZipFile('NDVI/20210611_FX10_NDVI.zip', 'r')\n",
    "archive_ts7 = zipfile.ZipFile('NDVI/20210615_FX10_NDVI.zip', 'r')\n",
    "archive_ts8 = zipfile.ZipFile('NDVI/20210618_FX10_NDVI.zip', 'r')\n",
    "archive_ts9 = zipfile.ZipFile('NDVI/20210622_FX10_NDVI.zip', 'r')\n",
    "archive_ts10 = zipfile.ZipFile('NDVI/20210625_FX10_NDVI.zip', 'r')"
   ]
  },
  {
   "cell_type": "code",
   "execution_count": null,
   "id": "f3082aa4",
   "metadata": {},
   "outputs": [],
   "source": [
    "# Get the files in the archive\n",
    "files_ts1 = archive_ts1.namelist()[1::]\n",
    "files_ts2 = archive_ts2.namelist()\n",
    "files_ts3 = archive_ts3.namelist()\n",
    "files_ts4 = archive_ts4.namelist()\n",
    "files_ts5 = archive_ts5.namelist()\n",
    "files_ts6 = archive_ts6.namelist()\n",
    "files_ts7 = archive_ts7.namelist()\n",
    "files_ts8 = archive_ts8.namelist()\n",
    "files_ts9 = archive_ts9.namelist()\n",
    "files_ts10 = archive_ts10.namelist()"
   ]
  },
  {
   "cell_type": "code",
   "execution_count": null,
   "id": "5e1c2213",
   "metadata": {},
   "outputs": [],
   "source": [
    "import os\n",
    "sativa_ILs = os.listdir(\"Sativa_AS\") "
   ]
  },
  {
   "cell_type": "code",
   "execution_count": null,
   "id": "bd2c7367",
   "metadata": {},
   "outputs": [],
   "source": [
    "sativa_ILs = [x[6:11] for x in sativa_ILs]"
   ]
  },
  {
   "cell_type": "code",
   "execution_count": null,
   "id": "e2c5c3a0",
   "metadata": {},
   "outputs": [],
   "source": [
    "def filter_sat(all_files):\n",
    "    sat = []\n",
    "    for f in all_files:\n",
    "        for s in sativa_ILs:\n",
    "            if s in f:\n",
    "                sat.append(f)\n",
    "    return sat"
   ]
  },
  {
   "cell_type": "code",
   "execution_count": null,
   "id": "b096a195",
   "metadata": {},
   "outputs": [],
   "source": [
    "files_ts1_sat = filter_sat(files_ts1)\n",
    "files_ts2_sat = filter_sat(files_ts2)"
   ]
  },
  {
   "cell_type": "code",
   "execution_count": null,
   "id": "a8e89656",
   "metadata": {},
   "outputs": [],
   "source": [
    "def thresholding(image_gray):\n",
    "    a_thresh = pcv.threshold.otsu(gray_img=image_gray, max_value=255, object_type='dark')\n",
    "    a_fill = pcv.fill(bin_img=a_thresh, size=200)\n",
    "    dilated = pcv.dilate(gray_img=a_fill, ksize=2, i=1)\n",
    "    Mask = cv2.bitwise_not(dilated)\n",
    "    return Mask"
   ]
  },
  {
   "cell_type": "code",
   "execution_count": null,
   "id": "3a57bc6d",
   "metadata": {},
   "outputs": [],
   "source": [
    "def observations(image, obj, mask):\n",
    "    analysis_image = pcv.analyze_object(img=image, obj=obj, mask=mask, label=\"default\")\n",
    "    plant_area = pcv.outputs.observations\n",
    "    cha = plant_area['default']['convex_hull_area']['value']\n",
    "    ec = plant_area['default']['ellipse_center']['value']\n",
    "    return cha, ec"
   ]
  },
  {
   "cell_type": "code",
   "execution_count": null,
   "id": "2bac4bf9",
   "metadata": {},
   "outputs": [],
   "source": [
    "def resizing(gray_image_other, gray_image, rgb_image):\n",
    "    h, w = gray_image_other.shape\n",
    "    dim = (w, h)\n",
    "    resized_g = cv2.resize(gray_image, dim, interpolation = cv2.INTER_AREA)\n",
    "    resized_rgb = cv2.resize(rgb_image, dim, interpolation = cv2.INTER_AREA)\n",
    "    return resized_g, resized_rgb"
   ]
  },
  {
   "cell_type": "code",
   "execution_count": null,
   "id": "5090f21e",
   "metadata": {},
   "outputs": [],
   "source": [
    "import math\n",
    "def gr_calc(ec_list_past, cha_list_past, ec_list_present, cha_list_present): \n",
    "    growth_rates = []\n",
    "    for x_past, y_past in zip(ec_list_past, cha_list_past):\n",
    "        dist_list = []\n",
    "        close_past = []\n",
    "        close_present = []\n",
    "        size_past = []\n",
    "        size_present = []\n",
    "        for x_present, y_present in zip(ec_list_present, cha_list_present):\n",
    "            distance = math.dist(x_past, x_present)\n",
    "            dist_list.append(distance)\n",
    "            close_past.append(x_past)\n",
    "            close_present.append(x_present)\n",
    "            size_past.append(y_past)\n",
    "            size_present.append(y_present)\n",
    "        min_value = min(dist_list)\n",
    "        min_index = dist_list.index(min_value)\n",
    "        growth_rates.append((size_present[min_index] - size_past[min_index]) / size_past[min_index])\n",
    "    return growth_rates"
   ]
  },
  {
   "cell_type": "code",
   "execution_count": null,
   "id": "3d225e54",
   "metadata": {},
   "outputs": [],
   "source": [
    "# Lactuca sativa\n",
    "import gc\n",
    "pcv.params.debug = None\n",
    "def growth_rate(files_present, files_past, archive_present, archive_past):\n",
    "    for file_present, file_past in zip(files_present, files_past):\n",
    "        if file_present[18:23] == file_past[18:23]:\n",
    "            imgdata_present = archive_present.read(file_present)\n",
    "            imgdata_past = archive_past.read(file_past)\n",
    "            bytes_present = io.BytesIO(imgdata_present)\n",
    "            bytes_past = io.BytesIO(imgdata_past)\n",
    "            \n",
    "            #Present\n",
    "            im_g_present = Image.open(bytes_present).convert('L')\n",
    "            im_rgb_present = Image.open(bytes_present).convert('RGB')\n",
    "            np_g_present = np.array(im_g_present) \n",
    "            np_rgb_present = np.array(im_rgb_present)\n",
    "            mask_present = thresholding(np_g_present)\n",
    "            obj_present, obj_hierarchy_present = pcv.find_objects(img=np_rgb_present, mask=mask_present)\n",
    "            filter_obj_present=[x for x in obj_present if len(x)>=50]\n",
    "            filter_obj_present = np.array(filter_obj_present)\n",
    "            cha_list_present = []\n",
    "            ec_list_present = []\n",
    "            for o_p in filter_obj_present:\n",
    "                cha_present, ec_present = observations(np_rgb_present, o_p, mask_present)\n",
    "                cha_list_present.append(cha_present)\n",
    "                ec_list_present.append(ec_present)\n",
    "                \n",
    "            \n",
    "            #Past\n",
    "            im_g_past = Image.open(bytes_past).convert('L')\n",
    "            im_rgb_past = Image.open(bytes_past).convert('RGB')\n",
    "            np_g_past = np.array(im_g_past) \n",
    "            np_rgb_past = np.array(im_rgb_past)\n",
    "            resized_g, resized_rgb = resizing(np_g_present, np_g_past, np_rgb_past)\n",
    "            mask_past = thresholding(resized_g)\n",
    "            obj_past, obj_hierarchy_past = pcv.find_objects(img=resized_rgb, mask=mask_past)\n",
    "            filter_obj_past =[x for x in obj_past if len(x)>=50]\n",
    "            filter_obj_past = np.array(filter_obj_past)\n",
    "            cha_list_past = []\n",
    "            ec_list_past = []\n",
    "            for o_pr in filter_obj_past:\n",
    "                cha_past, ec_past = observations(resized_rgb, o_pr, mask_past)\n",
    "                cha_list_past.append(cha_past)\n",
    "                ec_list_past.append(ec_past)\n",
    "                \n",
    "            growth_rates = gr_calc(ec_list_past, cha_list_past, ec_list_present, cha_list_present)\n",
    "            print(mean(growth_rates))\n",
    "            gc.collect()\n",
    "            #return growth_rates"
   ]
  },
  {
   "cell_type": "code",
   "execution_count": null,
   "id": "2553a743",
   "metadata": {},
   "outputs": [],
   "source": [
    "growth_rate(files_ts2_sat, files_ts1_sat, archive_ts2, archive_ts1)"
   ]
  }
 ],
 "metadata": {
  "kernelspec": {
   "display_name": "Python 3 (ipykernel)",
   "language": "python",
   "name": "python3"
  },
  "language_info": {
   "codemirror_mode": {
    "name": "ipython",
    "version": 3
   },
   "file_extension": ".py",
   "mimetype": "text/x-python",
   "name": "python",
   "nbconvert_exporter": "python",
   "pygments_lexer": "ipython3",
   "version": "3.9.13"
  }
 },
 "nbformat": 4,
 "nbformat_minor": 5
}
